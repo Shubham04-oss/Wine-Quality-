{
 "cells": [
  {
   "cell_type": "code",
   "execution_count": 11,
   "id": "3c5f41ec",
   "metadata": {},
   "outputs": [
    {
     "name": "stdout",
     "output_type": "stream",
     "text": [
      "Model saved as wine_quality_model.pkl\n"
     ]
    }
   ],
   "source": [
    "import pandas as pd\n",
    "import matplotlib.pyplot as mlb\n",
    "import seaborn as sns\n",
    "\n",
    "data = pd.read_csv(\"/home/shubham/Downloads/wine+quality/winequality-red.csv\", sep = \";\")\n",
    "features = data.columns.drop('quality')\n",
    "X = data[features]\n",
    "y = data['quality']\n",
    "from sklearn.model_selection import train_test_split\n",
    "X_train, X_test, y_train, y_test = train_test_split(\n",
    "    X, y, test_size=0.2, random_state=42\n",
    ")\n",
    "from sklearn.linear_model import LinearRegression\n",
    "model = LinearRegression()\n",
    "model.fit(X_train, y_train)\n",
    "y_pred = model.predict(X_test) \n",
    "\n",
    "import joblib\n",
    "joblib.dump(model, 'wine_quality_model.pkl')\n",
    "print(\"Model saved as wine_quality_model.pkl\")"
   ]
  },
  {
   "cell_type": "code",
   "execution_count": 13,
   "id": "1143ad80",
   "metadata": {},
   "outputs": [
    {
     "name": "stdout",
     "output_type": "stream",
     "text": [
      "Predictions: [5.34666441 5.05631345 5.66446972 5.46451484 5.72518476]\n",
      "Actual: [6 5 6 5 6]\n"
     ]
    }
   ],
   "source": [
    "import joblib\n",
    "\n",
    "# Load the saved model\n",
    "model = joblib.load('wine_quality_model.pkl')\n",
    "\n",
    "# Predict on a few samples from the test set\n",
    "sample = X_test.head()\n",
    "predictions = model.predict(sample)\n",
    "print(\"Predictions:\", predictions)\n",
    "print(\"Actual:\", y_test.head().values)"
   ]
  },
  {
   "cell_type": "code",
   "execution_count": null,
   "id": "94fea172",
   "metadata": {},
   "outputs": [],
   "source": []
  }
 ],
 "metadata": {
  "kernelspec": {
   "display_name": "Python 3",
   "language": "python",
   "name": "python3"
  },
  "language_info": {
   "codemirror_mode": {
    "name": "ipython",
    "version": 3
   },
   "file_extension": ".py",
   "mimetype": "text/x-python",
   "name": "python",
   "nbconvert_exporter": "python",
   "pygments_lexer": "ipython3",
   "version": "3.13.5"
  }
 },
 "nbformat": 4,
 "nbformat_minor": 5
}
